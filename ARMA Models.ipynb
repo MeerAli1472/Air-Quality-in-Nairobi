{
 "cells": [
  {
   "cell_type": "markdown",
   "id": "864dd4d2",
   "metadata": {},
   "source": [
    "# 3.4. ARMA Models and Hyperparameter tunning\n",
    "## (Auto Regressive Moving Average Model"
   ]
  },
  {
   "cell_type": "markdown",
   "id": "acd855cd",
   "metadata": {},
   "source": [
    "# Hyperparameter tunning\n",
    "#### Parts of model that the data scientist sets before training and that controls the learning process"
   ]
  },
  {
   "cell_type": "code",
   "execution_count": null,
   "id": "52c42440",
   "metadata": {},
   "outputs": [],
   "source": [
    "import inspect\n",
    "import time\n",
    "import matplotlib.pyplot as plt\n",
    "import pandas as pd\n",
    "import plotly.express as px\n",
    "import seaborn as sns\n",
    "from pymongo import MongoClient\n",
    "from sklearn.metrics import mean_absolute_error\n",
    "from statsmodels.graphics.tsaplots import plot_acf, plot_pacf\n",
    "from statsmodels.tsa.arima.model import ARIMA"
   ]
  },
  {
   "cell_type": "markdown",
   "id": "53ef9baa",
   "metadata": {},
   "source": [
    "# 1. Prepare Data\n",
    "## 1.1. Import"
   ]
  },
  {
   "cell_type": "markdown",
   "id": "3532d6af",
   "metadata": {},
   "source": [
    "<b>Task 3.4.1: Create a client to connect to the MongoDB server, then assign the \"air-quality\" database to db, and the \"nairobi\" collection to nairobi.</b>"
   ]
  },
  {
   "cell_type": "code",
   "execution_count": null,
   "id": "1b533c6f",
   "metadata": {},
   "outputs": [],
   "source": [
    "client = MongoClient(host=\"localhost\",port=27017)\n",
    "db = client[\"air-quality\"]\n",
    "nairobi = db[\"nairobi\"]"
   ]
  },
  {
   "cell_type": "code",
   "execution_count": null,
   "id": "f2b12422",
   "metadata": {},
   "outputs": [],
   "source": [
    "def wrangle(collection):\n",
    "\n",
    "    results = collection.find(\n",
    "        {\"metadata.site\": 29, \"metadata.measurement\": \"P2\"},\n",
    "        projection={\"P2\": 1, \"timestamp\": 1, \"_id\": 0},\n",
    "    )\n",
    "\n",
    "    # Read results into DataFrame\n",
    "    df = pd.DataFrame(list(results)).set_index(\"timestamp\")\n",
    "\n",
    "    # Localize timezone\n",
    "    df.index = df.index.tz_localize(\"UTC\").tz_convert(\"Africa/Nairobi\")\n",
    "\n",
    "    # Remove outliers\n",
    "    df = df[df[\"P2\"] < 500]\n",
    "\n",
    "    # Resample and forward-fill\n",
    "    y = ...\n",
    "\n",
    "    return y"
   ]
  },
  {
   "cell_type": "markdown",
   "id": "7db29a6e",
   "metadata": {},
   "source": [
    "<b>Task 3.4.2: Change your wrangle function so that it has a resample_rule argument that allows the user to change the resampling interval. The argument default should be \"1H\".</b>"
   ]
  },
  {
   "cell_type": "markdown",
   "id": "4b382025",
   "metadata": {},
   "source": [
    "<b>Task 3.4.3: Use your wrangle function to read the data from the nairobi collection into the Series y.</b>"
   ]
  },
  {
   "cell_type": "code",
   "execution_count": null,
   "id": "d4a85c87",
   "metadata": {},
   "outputs": [],
   "source": [
    "y = wrangle(nairobi)\n",
    "y.head()"
   ]
  },
  {
   "cell_type": "markdown",
   "id": "22dd2381",
   "metadata": {},
   "source": [
    "# 1.2. Explore"
   ]
  },
  {
   "cell_type": "markdown",
   "id": "8b539dfd",
   "metadata": {},
   "source": [
    "<b>Task 3.4.4: Create an ACF plot for the data in y. Be sure to label the x-axis as \"Lag [hours]\" and the y-axis as \"Correlation Coefficient\".</b>"
   ]
  },
  {
   "cell_type": "code",
   "execution_count": null,
   "id": "be9e6672",
   "metadata": {},
   "outputs": [],
   "source": [
    "fig, ax =plt.subplots(figsize=(15,6))\n",
    "plot_acf(y, ax=ax)\n",
    "plt.xlabel(\"Lag [hours]\")\n",
    "plt.ylabel(\"Correlation Coefficient\");"
   ]
  },
  {
   "cell_type": "markdown",
   "id": "131a1b51",
   "metadata": {},
   "source": [
    "<b>Task 3.4.5: Create an PACF plot for the data in y. Be sure to label the x-axis as \"Lag [hours]\" and the y-axis as \"Correlation Coefficient\".</b>"
   ]
  },
  {
   "cell_type": "code",
   "execution_count": null,
   "id": "65edc9a4",
   "metadata": {},
   "outputs": [],
   "source": [
    "fig, ax =plt.subplots(figsize=(15,6))\n",
    "plot_pacf(y, ax=ax)\n",
    "plt.xlabel(\"Lag [hours]\")\n",
    "plt.ylabel(\"Correlation Coefficient\");"
   ]
  },
  {
   "cell_type": "markdown",
   "id": "3ea9c2eb",
   "metadata": {},
   "source": [
    "# 1.3. Split"
   ]
  },
  {
   "cell_type": "markdown",
   "id": "09b0e5af",
   "metadata": {},
   "source": [
    "<b>Task 3.4.6: Create a training set y_train that contains only readings from October 2018, and a test set y_test that contains readings from November 1, 2018.</b>"
   ]
  },
  {
   "cell_type": "code",
   "execution_count": null,
   "id": "1c7110a1",
   "metadata": {},
   "outputs": [],
   "source": [
    "y_train = y.loc[\"2018-10-01\":\"2018-10-31\"]\n",
    "y_test = y.loc[\"2018-11-01\"]"
   ]
  },
  {
   "cell_type": "markdown",
   "id": "109d295b",
   "metadata": {},
   "source": [
    "# 2. Build Model\n",
    "## 2.1. Baseline"
   ]
  },
  {
   "cell_type": "code",
   "execution_count": null,
   "id": "788823d8",
   "metadata": {},
   "outputs": [],
   "source": [
    "y_train_mean = y_train.mean()\n",
    "y_pred_baseline = [y_train_mean] * len(y_train)\n",
    "mae_baseline = mean_absolute_error(y_train,y_pred_baseline)\n",
    "print(\"Mean P2 Reading:\", round(y_train_mean, 2))\n",
    "print(\"Baseline MAE:\", round(mae_baseline, 2))"
   ]
  },
  {
   "cell_type": "markdown",
   "id": "dcb0e98c",
   "metadata": {},
   "source": [
    "# 2.2. Iterate"
   ]
  },
  {
   "cell_type": "markdown",
   "id": "4484c2e0",
   "metadata": {},
   "source": [
    "<b>Task 3.4.8: Create ranges for possible  𝑝\n",
    "  and  𝑞\n",
    "  values. p_params should range between 0 and 25, by steps of 8. q_params should range between 0 and 3 by steps of 1</b>"
   ]
  },
  {
   "cell_type": "markdown",
   "id": "470ad8f7",
   "metadata": {},
   "source": [
    "ARMA\n",
    "- AR -> looking at past reading in order to make present prediction\n",
    "- MA -> looking at past predition and the true value (calculating error)\n",
    "- in time series data it some time happened that in past prediction may be their a lot of pollution in air \n",
    "due to some events like (independence day) in which every one shooting fires in air and the day after events may the\n",
    "air fresh so this cause of an error in model prediction. that why we using ARMA model to handle this error\n",
    "and now in present "
   ]
  },
  {
   "cell_type": "code",
   "execution_count": null,
   "id": "a21e5c65",
   "metadata": {},
   "outputs": [],
   "source": [
    "p_params = range(0,25,8)    #p_params being lags for the AR part of the model (range selected using pacf_plot)\n",
    "q_params = range(0,3,1)     #q_params being lags for the MA part of the model(error lag)(using acf_plot) we often keep it small"
   ]
  },
  {
   "cell_type": "markdown",
   "id": "1431b805",
   "metadata": {},
   "source": [
    "<b>Task 3.4.9: Complete the code below to train a model with every combination of hyperparameters in p_params and q_params. Every time the model is trained, the mean absolute error is calculated and then saved to a dictionary. If you're not sure where to start, do the code-along with Nicholas!</b>"
   ]
  },
  {
   "cell_type": "markdown",
   "id": "56bb6d07",
   "metadata": {},
   "source": [
    "# Grid Search\n",
    "for each p_params and q_params we calculate MAE and then we choose that parameters which gives minimum MAE\n",
    "for examples:\n",
    "\n",
    "|             |             |             |             |             |\n",
    "| ----------- | ----------- | ----------- | ----------- | ----------- |\n",
    "| (0,0) MAE   | (8,0) MAE   | (16,0) MAE  | (24,0) MAE  |             |\n",
    "|             |             |             |             |             |\n",
    "| (0,1) MAE   | (8,1) MAE   | (16,1) MAE  | (24,1) MAE  |             |\n",
    "|             |             |             |             |             |\n",
    "| (0,2) MAE   | (8,2) MAE   | (16,2) MAE  | (24,2) MAE  |             |\n",
    "    "
   ]
  },
  {
   "cell_type": "code",
   "execution_count": null,
   "id": "b17234b2",
   "metadata": {},
   "outputs": [],
   "source": [
    "# Create dictionary to store MAEs\n",
    "mae_grid = dict()\n",
    "# Outer loop: Iterate through possible values for `p`\n",
    "for p in p_params:\n",
    "    # Create key-value pair in dict. Key is `p`, value is empty list.\n",
    "    mae_grid[p] = list()\n",
    "    # Inner loop: Iterate through possible values for `q`\n",
    "    for q in q_params:\n",
    "        # Combination of hyperparameters for model\n",
    "        order = (p, 0, q)\n",
    "        # Note start time\n",
    "        start_time = time.time()\n",
    "        # Train model\n",
    "        model = ARIMA(y_train,order = order).fit()\n",
    "        # Calculate model training time\n",
    "        elapsed_time = round(time.time() - start_time, 2)\n",
    "        print(f\"Trained ARIMA {order} in {elapsed_time} seconds.\")\n",
    "        # Generate in-sample (training) predictions\n",
    "        y_pred = model.predict()\n",
    "        # Calculate training MAE\n",
    "        mae = mean_absolute_error(y_train,y_pred)\n",
    "        # Append MAE to list in dictionary\n",
    "        mae_grid[p].append(mae)\n",
    "\n",
    "print()\n",
    "print(mae_grid)"
   ]
  },
  {
   "cell_type": "markdown",
   "id": "40abc440",
   "metadata": {},
   "source": [
    "<b>Task 3.4.10: Organize all the MAE's from above in a DataFrame names mae_df. Each row represents a possible value for  𝑞\n",
    "  and each column represents a possible value for  𝑝\n",
    " .</b>"
   ]
  },
  {
   "cell_type": "code",
   "execution_count": null,
   "id": "1f1e8c45",
   "metadata": {},
   "outputs": [],
   "source": [
    "mae_df = pd.DataFrame(mae_grid)\n",
    "mae_df.round(4)"
   ]
  },
  {
   "cell_type": "markdown",
   "id": "e7e0ef84",
   "metadata": {},
   "source": [
    "<b>Task 3.4.11: Create heatmap of the values in mae_grid. Be sure to label your x-axis \"p values\" and your y-axis \"q values\".</b>"
   ]
  },
  {
   "cell_type": "code",
   "execution_count": null,
   "id": "66aaae87",
   "metadata": {},
   "outputs": [],
   "source": [
    "sns.heatmap(mae_df, cmap = \"Blues\")\n",
    "plt.xlabel(\"p values\")\n",
    "plt.ylabel(\"q values\")\n",
    "plt.title(\"ARMA Grid Search (Criterion: MAE)\")"
   ]
  },
  {
   "cell_type": "markdown",
   "id": "d851152a",
   "metadata": {},
   "source": [
    "<b>Task 3.4.12: Use the plot_diagnostics method to check the residuals for your model. Keep in mind that the plot will represent the residuals from the last model you trained, so make sure it was your best model, too!</b>"
   ]
  },
  {
   "cell_type": "code",
   "execution_count": null,
   "id": "84e53ab2",
   "metadata": {},
   "outputs": [],
   "source": [
    "fig, ax = plt.subplots(figsize=(15, 12))\n",
    "model.plot_diagnostics(fig=fig)"
   ]
  },
  {
   "cell_type": "markdown",
   "id": "c33c2a75",
   "metadata": {},
   "source": [
    "# 2.3. Evaluate"
   ]
  },
  {
   "cell_type": "markdown",
   "id": "3ee6e0ec",
   "metadata": {},
   "source": [
    "<b>Task 3.4.13: Complete the code below to perform walk-forward validation for your model for the entire test set y_test. Store your model's predictions in the Series y_pred_wfv. Choose the values for  𝑝\n",
    "  and  𝑞\n",
    "  that best balance model performance and computation time. Remember: This model is going to have to train 24 times before you can see your test MAE!WQU WorldQuant University Applied Data Science Lab QQQQ</b>"
   ]
  },
  {
   "cell_type": "code",
   "execution_count": null,
   "id": "36473937",
   "metadata": {},
   "outputs": [],
   "source": [
    "y_pred_wfv = pd.Series()\n",
    "history = y_train.copy()\n",
    "for i in range(len(y_test)):\n",
    "    model = ARIMA(history, order=(8,0,1)).fit()\n",
    "    next_pred = model.forecast()\n",
    "    y_pred_wfv = y_pred_wfv.append(next_pred)\n",
    "    history = history.append(y_test[next_pred.index])"
   ]
  },
  {
   "cell_type": "code",
   "execution_count": null,
   "id": "76a8371d",
   "metadata": {},
   "outputs": [],
   "source": [
    "test_mae = mean_absolute_error(y_test,y_pred_wfv)\n",
    "print(\"Test MAE (walk forward validation):\", round(test_mae, 2))"
   ]
  },
  {
   "cell_type": "markdown",
   "id": "62068a24",
   "metadata": {},
   "source": [
    "# 3. Communicate Results"
   ]
  },
  {
   "cell_type": "markdown",
   "id": "7b41c1f5",
   "metadata": {},
   "source": [
    "<b>Task 3.4.14: First, generate the list of training predictions for your model. Next, create a DataFrame df_predictions with the true values y_test and your predictions y_pred_wfv (don't forget the index). Finally, plot df_predictions using plotly express. Make sure that the y-axis is labeled \"P2\".</b>"
   ]
  },
  {
   "cell_type": "code",
   "execution_count": null,
   "id": "f2f0c898",
   "metadata": {},
   "outputs": [],
   "source": [
    "df_predictions = pd.DataFrame({\"y_test\":y_test, \"y_pred_wfv\": y_pred_wfv})\n",
    "fig = px.line(df_predictions, labels={\"value\":\"PM2.5\"})\n",
    "fig.show()"
   ]
  }
 ],
 "metadata": {
  "kernelspec": {
   "display_name": "Python 3",
   "language": "python",
   "name": "python3"
  },
  "language_info": {
   "codemirror_mode": {
    "name": "ipython",
    "version": 3
   },
   "file_extension": ".py",
   "mimetype": "text/x-python",
   "name": "python",
   "nbconvert_exporter": "python",
   "pygments_lexer": "ipython3",
   "version": "3.8.8"
  }
 },
 "nbformat": 4,
 "nbformat_minor": 5
}
