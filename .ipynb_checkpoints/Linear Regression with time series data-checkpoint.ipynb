{
 "cells": [
  {
   "cell_type": "markdown",
   "id": "caa38c8a",
   "metadata": {},
   "source": [
    "# Linear Regression with Time Series Data"
   ]
  },
  {
   "cell_type": "code",
   "execution_count": 1,
   "id": "adede0c9",
   "metadata": {},
   "outputs": [],
   "source": [
    "import matplotlib.pyplot as plt\n",
    "import pandas as pd\n",
    "import plotly.express as px\n",
    "import pytz           #pythone time zone liberary\n",
    "from pymongo import MongoClient\n",
    "from sklearn.linear_model import LinearRegression\n",
    "from sklearn.metrics import mean_absolute_error"
   ]
  },
  {
   "cell_type": "markdown",
   "id": "f563548f",
   "metadata": {},
   "source": [
    "# Prepare Data\n",
    "## Import"
   ]
  },
  {
   "cell_type": "markdown",
   "id": "b1f36693",
   "metadata": {},
   "source": [
    "<b>Task 3.2.1: Complete to the create a client to connect to the MongoDB server, assign the \"air-quality\" database to db, and assign the \"nairobi\" connection to nairobi.</b>"
   ]
  },
  {
   "cell_type": "code",
   "execution_count": null,
   "id": "4620224c",
   "metadata": {},
   "outputs": [],
   "source": [
    "client = MongoClient(host=\"localhost\",port=27017)\n",
    "db = client[\"air-quality\"]\n",
    "nairobi = db[\"nairobi\"]"
   ]
  },
  {
   "cell_type": "markdown",
   "id": "f18a6ef5",
   "metadata": {},
   "source": [
    "<b>Task 3.2.2: Complete the wrangle function below so that the results from the database query are read into the DataFrame df. Be sure that the index of df is the \"timestamp\" from the results.</b>"
   ]
  },
  {
   "cell_type": "code",
   "execution_count": null,
   "id": "2afcf87b",
   "metadata": {},
   "outputs": [],
   "source": [
    "def wrangle(collection):\n",
    "    results = collection.find(\n",
    "        {\"metadata.site\": 29, \"metadata.measurement\": \"P2\"},\n",
    "        projection={\"P2\": 1, \"timestamp\": 1, \"_id\": 0},\n",
    "    )\n",
    "\n",
    "    df = pd.DataFrame(results).set_index(\"timestamp\")\n",
    "    \n",
    "    #localize trimezone\n",
    "    df.index=df.index.tz_localize(\"UTC\").tz_convert(\"Africa/Nairobi\")\n",
    "    \n",
    "    #remove outlier\n",
    "    df = df[df[\"P2\"]<500]\n",
    "    \n",
    "    #resampling to 1H window and imputing missing values by ffill method\n",
    "    df = df[\"P2\"].resample(\"1H\").mean().fillna(method=\"ffill\").to_frame()\n",
    "    \n",
    "    #add lag features\n",
    "    df[\"P2.L1\"] = df[\"P2\"].shift(1)\n",
    "    df.dropna(inplace=True)\n",
    "    \n",
    "    return df"
   ]
  },
  {
   "cell_type": "markdown",
   "id": "60a2d56f",
   "metadata": {},
   "source": [
    "<b>Task 3.2.3: Use your wrangle function to read the data from the nairobi collection into the DataFrame df.</b>"
   ]
  },
  {
   "cell_type": "code",
   "execution_count": 2,
   "id": "fa4322af",
   "metadata": {},
   "outputs": [
    {
     "ename": "NameError",
     "evalue": "name 'wrangle' is not defined",
     "output_type": "error",
     "traceback": [
      "\u001b[1;31m---------------------------------------------------------------------------\u001b[0m",
      "\u001b[1;31mNameError\u001b[0m                                 Traceback (most recent call last)",
      "\u001b[1;32m<ipython-input-2-00a7844024d0>\u001b[0m in \u001b[0;36m<module>\u001b[1;34m\u001b[0m\n\u001b[1;32m----> 1\u001b[1;33m \u001b[0mdf\u001b[0m \u001b[1;33m=\u001b[0m \u001b[0mwrangle\u001b[0m\u001b[1;33m(\u001b[0m\u001b[0mnairobi\u001b[0m\u001b[1;33m)\u001b[0m\u001b[1;33m\u001b[0m\u001b[1;33m\u001b[0m\u001b[0m\n\u001b[0m\u001b[0;32m      2\u001b[0m \u001b[0mprint\u001b[0m\u001b[1;33m(\u001b[0m\u001b[0mdf\u001b[0m\u001b[1;33m.\u001b[0m\u001b[0mshape\u001b[0m\u001b[1;33m)\u001b[0m\u001b[1;33m\u001b[0m\u001b[1;33m\u001b[0m\u001b[0m\n\u001b[0;32m      3\u001b[0m \u001b[0mdf\u001b[0m\u001b[1;33m.\u001b[0m\u001b[0mhead\u001b[0m\u001b[1;33m(\u001b[0m\u001b[1;33m)\u001b[0m\u001b[1;33m\u001b[0m\u001b[1;33m\u001b[0m\u001b[0m\n",
      "\u001b[1;31mNameError\u001b[0m: name 'wrangle' is not defined"
     ]
    }
   ],
   "source": [
    "df = wrangle(nairobi)\n",
    "print(df.shape)\n",
    "df.head()"
   ]
  },
  {
   "cell_type": "markdown",
   "id": "d2518581",
   "metadata": {},
   "source": [
    "<b>Task 3.2.4: Add to your wrangle function so that the DatetimeIndex for df is localized to the correct timezone, \"Africa/Nairobi\". Don't forget to re-run all the cells above after you change the function.</b>"
   ]
  },
  {
   "cell_type": "markdown",
   "id": "a34c0cf5",
   "metadata": {},
   "source": [
    "the time save in mongodb in UTC (universal coded Timmer) we have to change it into nairobi time zone"
   ]
  },
  {
   "cell_type": "code",
   "execution_count": null,
   "id": "a537b449",
   "metadata": {},
   "outputs": [],
   "source": [
    "df.index.tz_localize(\"UTC\")[:5]     #it just convert time into UTC but we need to convert in Nairobi timezone"
   ]
  },
  {
   "cell_type": "code",
   "execution_count": null,
   "id": "379b7a52",
   "metadata": {},
   "outputs": [],
   "source": [
    "df.index.tz_localize(\"UTC\").tz_convert(\"Africa/Nairobi\")[:5]  \n",
    "# now it is converted into Nairobi timezone which is three hour ago "
   ]
  },
  {
   "cell_type": "markdown",
   "id": "d53b4b52",
   "metadata": {},
   "source": [
    "# Explore"
   ]
  },
  {
   "cell_type": "markdown",
   "id": "768bae14",
   "metadata": {},
   "source": [
    "<b>Task 3.2.5: Create a boxplot of the \"P2\" readings in df.</b>"
   ]
  },
  {
   "cell_type": "code",
   "execution_count": null,
   "id": "4060bba7",
   "metadata": {},
   "outputs": [],
   "source": [
    "fig, ax = plt.subplots(figsize=(15, 6))\n",
    "df[\"P2\"].plot(kind=\"box\",vert=False,title=\"Distribution of PM2.5 Readings\",ax=ax)"
   ]
  },
  {
   "cell_type": "markdown",
   "id": "3ec7a407",
   "metadata": {},
   "source": [
    "<b>Task 3.2.6: Add to your wrangle function so that all \"P2\" readings above 500 are dropped from the dataset. Don't forget to re-run all the cells above after you change the function.</b>"
   ]
  },
  {
   "cell_type": "code",
   "execution_count": null,
   "id": "f7716415",
   "metadata": {},
   "outputs": [],
   "source": [
    "df = df[df[\"P2\"] < 500]  # add to wrangle()"
   ]
  },
  {
   "cell_type": "markdown",
   "id": "a37c3eb1",
   "metadata": {},
   "source": [
    "<b>Task 3.2.7: Create a time series plot of the \"P2\" readings in df.</b>"
   ]
  },
  {
   "cell_type": "code",
   "execution_count": null,
   "id": "512c4b4f",
   "metadata": {},
   "outputs": [],
   "source": [
    "fig,ax = plt.subplots(figsize=(15,6))\n",
    "df[\"P2\"].plot(xlabel=\"Time\",ylabel=\"PM2.5\",title=\"PM2.5 time series\",ax=ax)\n",
    "#when ploting time series data we don't know to use use kind of plot then we just use \"plot\""
   ]
  },
  {
   "cell_type": "markdown",
   "id": "35fe0c08",
   "metadata": {},
   "source": [
    "<b>Task 3.2.8: Add to your wrangle function to resample df to provide the mean \"P2\" reading for each hour. Use a forward fill to impute any missing values. Don't forget to re-run all the cells above after you change the function.</b>"
   ]
  },
  {
   "cell_type": "markdown",
   "id": "f5fbcbcb",
   "metadata": {},
   "source": [
    "### Question at what interval do you want to predict PM2.5. at every sec or min or hour, but we want in every hour"
   ]
  },
  {
   "cell_type": "code",
   "execution_count": null,
   "id": "a8586da1",
   "metadata": {},
   "outputs": [],
   "source": [
    "df[\"P2\"].resample(\"1H\").mean().fillna(method=\"ffill\").to_frame().isnull().sum()"
   ]
  },
  {
   "cell_type": "markdown",
   "id": "ac96c657",
   "metadata": {},
   "source": [
    "<b>Task 3.2.9: Plot the rolling average of the \"P2\" readings in df. Use a window size of 168 (the number of hours in a week).</b>"
   ]
  },
  {
   "cell_type": "markdown",
   "id": "3bb44d36",
   "metadata": {},
   "source": [
    "# Rolling Averages\n",
    "A rolling average is the mean value of multiple subsets of numbers in a dataset. For example, I might have data relating to the daily income for a shop I own, and as long as the shop stays open, I can calculate a rolling average. On Friday, I might calculate the average income from Monday-Thursday. The next Monday, I might calculate the average income from Tuesday-Friday, and the next day, I might calculate the average income from Wednesday to Monday, and so on. These averages roll, giving me a sense for how the data is changing in relation to any kind of static construct. In this case, and in many data science applications, that construct is time. Calculating rolling averages is helpful for making accurate forecasts about the ways data will change in the future."
   ]
  },
  {
   "cell_type": "code",
   "execution_count": null,
   "id": "95b00630",
   "metadata": {},
   "outputs": [],
   "source": [
    "fig, ax = plt.subplots(figsize=(15, 6))\n",
    "df[\"P2\"].rolling(168).mean().plot(ax=ax,ylabel=\"PM2.5\",title=\"weekly rolling object\");"
   ]
  },
  {
   "cell_type": "markdown",
   "id": "973482d0",
   "metadata": {},
   "source": [
    "<b>Task 3.2.10: Add to your wrangle function to create a column called \"P2.L1\" that contains the mean\"P2\" reading from the previous hour. Since this new feature will create NaN values in your DataFrame, be sure to also drop null rows from df.</b>"
   ]
  },
  {
   "cell_type": "code",
   "execution_count": null,
   "id": "0a2c44eb",
   "metadata": {},
   "outputs": [],
   "source": [
    "#add lag features\n",
    "df[\"P2.L1\"] = df[\"P2\"].shift(1)\n",
    "df.dropna(inplace=True)"
   ]
  },
  {
   "cell_type": "markdown",
   "id": "3d2571ff",
   "metadata": {},
   "source": [
    "<b>Task 3.2.11: Create a correlation matrix for df.</b>"
   ]
  },
  {
   "cell_type": "code",
   "execution_count": null,
   "id": "3666f7c2",
   "metadata": {},
   "outputs": [],
   "source": [
    "df.corr()"
   ]
  },
  {
   "cell_type": "markdown",
   "id": "39f8bd9a",
   "metadata": {},
   "source": [
    "<b>Task 3.2.12: Create a scatter plot that shows PM 2.5 mean reading for each our as a function of the mean reading from the previous hour. In other words, \"P2.L1\" should be on the x-axis, and \"P2\" should be on the y-axis. Don't forget to label your axes!</b>"
   ]
  },
  {
   "cell_type": "code",
   "execution_count": null,
   "id": "b3867758",
   "metadata": {},
   "outputs": [],
   "source": [
    "fig, ax = plt.subplots(figsize=(6, 6))\n",
    "ax.scatter(x=df[\"P2.L1\"], y=df[\"P2\"])\n",
    "ax.plot([0,120], [0,120], linestyle=\"--\",color=\"orange\")\n",
    "plt.xlabel(\"P2.L1\")\n",
    "plt.ylabel(\"P2\")\n",
    "plt.title(\"PM2.5 Autocorrelation\")"
   ]
  },
  {
   "cell_type": "markdown",
   "id": "f595c427",
   "metadata": {},
   "source": [
    "# Split\n",
    "## vertical split"
   ]
  },
  {
   "cell_type": "markdown",
   "id": "06c82247",
   "metadata": {},
   "source": [
    "<b>Task 3.2.13: Split the DataFrame df into the feature matrix X and the target vector y. Your target is \"P2\".</b>"
   ]
  },
  {
   "cell_type": "code",
   "execution_count": null,
   "id": "17b96c24",
   "metadata": {},
   "outputs": [],
   "source": [
    "target = \"P2\"\n",
    "y = df[target]\n",
    "X = df.drop(columns=target)"
   ]
  },
  {
   "cell_type": "markdown",
   "id": "9033133f",
   "metadata": {},
   "source": [
    "<b>Task 3.2.14: Split X and y into training and test sets. The first 80% of the data should be in your training set. The remaining 20% should be in the test set.</b>"
   ]
  },
  {
   "cell_type": "code",
   "execution_count": null,
   "id": "fab38a52",
   "metadata": {},
   "outputs": [],
   "source": [
    "cutoff = int(len(X) * 0.8)    #80 per of data for training\n",
    "\n",
    "X_train, y_train = X.iloc[:cutoff], y.iloc[:cutoff]\n",
    "X_test, y_test = X.iloc[cutoff:], y.iloc[cutoff:]"
   ]
  },
  {
   "cell_type": "code",
   "execution_count": null,
   "id": "d5bba6fe",
   "metadata": {},
   "outputs": [],
   "source": [
    "len(X_train) + len(X_test) == len(X)"
   ]
  },
  {
   "cell_type": "markdown",
   "id": "d92d530e",
   "metadata": {},
   "source": [
    "# Build Model\n",
    "## Baseline"
   ]
  },
  {
   "cell_type": "markdown",
   "id": "2da4b5d9",
   "metadata": {},
   "source": [
    "<b>Task 3.2.15: Calculate the baseline mean absolute error for your model.</b>"
   ]
  },
  {
   "cell_type": "code",
   "execution_count": null,
   "id": "1b61b573",
   "metadata": {},
   "outputs": [],
   "source": [
    "y_mean = y_train.mean()"
   ]
  },
  {
   "cell_type": "code",
   "execution_count": null,
   "id": "4d342bbf",
   "metadata": {},
   "outputs": [],
   "source": [
    "y_pred_baseline = [y_mean] * len(y_train)\n",
    "mae_baseline = mean_absolute_error(y_train,y_pred_baseline)\n",
    "\n",
    "print(\"Mean P2 Reading:\", round(y_train.mean(), 2))\n",
    "print(\"Baseline MAE:\", round(mae_baseline, 2))"
   ]
  },
  {
   "cell_type": "markdown",
   "id": "16bb6acf",
   "metadata": {},
   "source": [
    "# Iterate\n",
    "<b>Task 3.2.16: Instantiate a LinearRegression model named model, and fit it to your training data.</b>"
   ]
  },
  {
   "cell_type": "code",
   "execution_count": null,
   "id": "1bb7daac",
   "metadata": {},
   "outputs": [],
   "source": [
    "model = LinearRegression()"
   ]
  },
  {
   "cell_type": "code",
   "execution_count": null,
   "id": "e4c8167b",
   "metadata": {},
   "outputs": [],
   "source": [
    "model.fit(X_train,y_train)"
   ]
  },
  {
   "cell_type": "markdown",
   "id": "1bca4702",
   "metadata": {},
   "source": [
    "# Evaluate"
   ]
  },
  {
   "cell_type": "markdown",
   "id": "7f3a3567",
   "metadata": {},
   "source": [
    "<b>Task 3.2.17: Calculate the training and test mean absolute error for your model.</b>"
   ]
  },
  {
   "cell_type": "code",
   "execution_count": null,
   "id": "89c4a4ab",
   "metadata": {},
   "outputs": [],
   "source": [
    "training_mae = mean_absolute_error(y_train, model.predict(X_train))\n",
    "test_mae = mean_absolute_error(y_test, model.predict(X_test))\n",
    "print(\"Training MAE:\", round(training_mae, 2))\n",
    "print(\"Test MAE:\", round(test_mae, 2))"
   ]
  },
  {
   "cell_type": "markdown",
   "id": "fe73b606",
   "metadata": {},
   "source": [
    "# Communicate Results"
   ]
  },
  {
   "cell_type": "markdown",
   "id": "41e21093",
   "metadata": {},
   "source": [
    "<b>Task 3.2.18: Extract the intercept and coefficient from your model.</b>"
   ]
  },
  {
   "cell_type": "code",
   "execution_count": null,
   "id": "5d547550",
   "metadata": {},
   "outputs": [],
   "source": [
    "intercept =model.intercept_\n",
    "coefficient = model.coef_\n",
    "\n",
    "print(f\"P2 = {intercept} + ({coefficient} * P2.L1)\")"
   ]
  },
  {
   "cell_type": "markdown",
   "id": "85476f94",
   "metadata": {},
   "source": [
    "<b>Task 3.2.19: Create a DataFrame df_pred_test that has two columns: \"y_test\" and \"y_pred\". The first should contain the true values for your test set, and the second should contain your model's predictions. Be sure the index of df_pred_test matches the index of y_test.</b>"
   ]
  },
  {
   "cell_type": "code",
   "execution_count": null,
   "id": "10a0483c",
   "metadata": {},
   "outputs": [],
   "source": [
    "df_pred_test = pd.DataFrame(\n",
    "    {\n",
    "        \"y_test\": y_test,\n",
    "        \"y_pred\": model.predict(X_test)\n",
    "    }\n",
    ")\n",
    "df_pred_test.head()"
   ]
  },
  {
   "cell_type": "markdown",
   "id": "99cb67fb",
   "metadata": {},
   "source": [
    "<b>Task 3.2.20: Create a time series line plot for the values in test_predictions using plotly express. Be sure that the y-axis is properly labeled as \"P2\".</b>"
   ]
  },
  {
   "cell_type": "code",
   "execution_count": null,
   "id": "e8102415",
   "metadata": {},
   "outputs": [],
   "source": [
    "fig = px.line(df_pred_test, labels = {\"value\":\"P2\"})\n",
    "fig.show()"
   ]
  },
  {
   "cell_type": "code",
   "execution_count": null,
   "id": "32f10414",
   "metadata": {},
   "outputs": [],
   "source": []
  }
 ],
 "metadata": {
  "kernelspec": {
   "display_name": "Python 3",
   "language": "python",
   "name": "python3"
  },
  "language_info": {
   "codemirror_mode": {
    "name": "ipython",
    "version": 3
   },
   "file_extension": ".py",
   "mimetype": "text/x-python",
   "name": "python",
   "nbconvert_exporter": "python",
   "pygments_lexer": "ipython3",
   "version": "3.8.8"
  }
 },
 "nbformat": 4,
 "nbformat_minor": 5
}
