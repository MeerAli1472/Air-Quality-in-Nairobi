{
 "cells": [
  {
   "cell_type": "markdown",
   "id": "5dad067b",
   "metadata": {},
   "source": [
    "# Air Quality in Nairobi\n",
    "In this project, you'll work with data from one of Africa's largest open data platforms openAfrica. You'll look at air quality data from Nairobi, Lagos, and Dar es Salaam; and build a time seriesmodel to predict PM 2.5 readings throughout the day.\n",
    "\n",
    "Some of the things you'll learn in this project are:\n",
    "\n",
    "How to get data by querying a MongoDB database.\n",
    "How to prepare time series data for analysis.\n",
    "How to build an autoregression model.\n",
    "How to improve a model by tuning its hyperparameters.\n",
    "Time series models are not only important in public health; they're a key part of Financial Engineering. Plus, concepts you learn in this project will be helpful in Natural Language Processing."
   ]
  },
  {
   "cell_type": "markdown",
   "id": "c1b7c6d4",
   "metadata": {},
   "source": [
    "# Parameter\n",
    "Numerical charateristic of your model that are determine during training.\n",
    "### For Example\n",
    "in linear regration you providing features to the model.\n",
    "\n",
    "# Hyperparameter\n",
    "Numerical charateristic of your model that are determine before training.\n",
    "it is not always true. but it is often true that is provided by the data scientist.\n",
    "### For Example\n",
    "We are trying to predict Yt from the previous Yt-1   # B = (beta coefficient(parameter))\n",
    "Yt = BYt-1 + BYt-2 +.... + Yt-n                      # Yt-1(Hyperparameter)\n",
    "one hyperparater that you can change is you can decide how many time step back you wana include in your model.\n"
   ]
  },
  {
   "cell_type": "code",
   "execution_count": 1,
   "id": "ebc2c7b2",
   "metadata": {},
   "outputs": [],
   "source": [
    "from pprint import PrettyPrinter # used to view data from mongodb in easyway\n",
    "import pandas as pd\n",
    "from pymongo import MongoClient"
   ]
  },
  {
   "cell_type": "markdown",
   "id": "b3257db5",
   "metadata": {},
   "source": [
    "<b>Task 3.1.1: Instantiate a PrettyPrinter, and assign it to the variable pp.</b>"
   ]
  },
  {
   "cell_type": "code",
   "execution_count": 2,
   "id": "fec32bd8",
   "metadata": {},
   "outputs": [],
   "source": [
    "pp = PrettyPrinter(indent=2)"
   ]
  },
  {
   "cell_type": "markdown",
   "id": "af72a830",
   "metadata": {},
   "source": [
    "# Prepare Data\n",
    "## Connect"
   ]
  },
  {
   "cell_type": "markdown",
   "id": "b9283048",
   "metadata": {},
   "source": [
    "<b>Task 3.1.2: Create a client that connects to the database running at localhost on port 27017.</b>"
   ]
  },
  {
   "cell_type": "code",
   "execution_count": 3,
   "id": "cc87fcc9",
   "metadata": {},
   "outputs": [],
   "source": [
    "client = MongoClient(host=\"localhost\",port=27017)"
   ]
  },
  {
   "cell_type": "markdown",
   "id": "5a33b773",
   "metadata": {},
   "source": [
    "# Explore"
   ]
  },
  {
   "cell_type": "markdown",
   "id": "e5ab65a4",
   "metadata": {},
   "source": [
    "<b>Task 3.1.3: Print a list of the databases available on client.</b>"
   ]
  },
  {
   "cell_type": "markdown",
   "id": "cf6e7ecb",
   "metadata": {},
   "source": [
    "# Note\n",
    "List occupied more space as compared to iterator\n",
    "you can check below that list occupied more space but iterater occupied less space which is always constant\n",
    "so,when you want to exract documents from database it may be millions of documents so it will crash your machine\n",
    "in this case we iterator instead of list"
   ]
  },
  {
   "cell_type": "code",
   "execution_count": 5,
   "id": "47763d23",
   "metadata": {},
   "outputs": [],
   "source": [
    "from sys import getsizeof"
   ]
  },
  {
   "cell_type": "code",
   "execution_count": 6,
   "id": "bfafc880",
   "metadata": {},
   "outputs": [
    {
     "name": "stdout",
     "output_type": "stream",
     "text": [
      "1\n",
      "2\n",
      "3\n",
      "4\n",
      "5\n"
     ]
    }
   ],
   "source": [
    "my_list = [1,2,3,4,5]\n",
    "my_range = range(0,4)\n",
    "for i in my_list:\n",
    "    print(i)"
   ]
  },
  {
   "cell_type": "code",
   "execution_count": 7,
   "id": "f169f300",
   "metadata": {},
   "outputs": [
    {
     "name": "stdout",
     "output_type": "stream",
     "text": [
      "0\n",
      "1\n",
      "2\n",
      "3\n"
     ]
    }
   ],
   "source": [
    "for i in my_range:\n",
    "    print(i)"
   ]
  },
  {
   "cell_type": "code",
   "execution_count": 9,
   "id": "a2db81d5",
   "metadata": {},
   "outputs": [
    {
     "name": "stdout",
     "output_type": "stream",
     "text": [
      "my list size is 96 bytes\n",
      "my iterater size is  48 bytes\n"
     ]
    }
   ],
   "source": [
    "print(\"my list size is\" ,  getsizeof(my_list),\"bytes\")\n",
    "print(\"my iterater size is \",getsizeof(my_range),\"bytes\")"
   ]
  },
  {
   "cell_type": "code",
   "execution_count": null,
   "id": "fe9465ac",
   "metadata": {},
   "outputs": [],
   "source": [
    "list(client.list_databases())  #size = 120"
   ]
  },
  {
   "cell_type": "code",
   "execution_count": null,
   "id": "76b62006",
   "metadata": {},
   "outputs": [],
   "source": [
    "pp.pprint(list(client.list_databases())) # size = 16  because of iterator"
   ]
  },
  {
   "cell_type": "markdown",
   "id": "9fdbf286",
   "metadata": {},
   "source": [
    "<b>Task 3.1.4: Assign the \"air-quality\" database to the variable db.</b>"
   ]
  },
  {
   "cell_type": "code",
   "execution_count": null,
   "id": "5528ee71",
   "metadata": {},
   "outputs": [],
   "source": [
    "db = client[\"air_quality\"]   # now we can interect directly with \"air_quality\" database"
   ]
  },
  {
   "cell_type": "markdown",
   "id": "8f5b7d28",
   "metadata": {},
   "source": [
    "### we connected with server and we found database (\"air_quality\") and inside air_quality there are \"collection\"\n",
    "### collection-----> how many dataframe are there in database(air_quality) and inside collection you will see observation(rows)\n",
    "### each observation called \"Documents\""
   ]
  },
  {
   "cell_type": "markdown",
   "id": "7cbcb092",
   "metadata": {},
   "source": [
    "<b>Task 3.1.5: Use the list_collections method to print a list of the collections available in db.</b>"
   ]
  },
  {
   "cell_type": "code",
   "execution_count": null,
   "id": "176f76ef",
   "metadata": {},
   "outputs": [],
   "source": [
    "list(db.list_collections())[0]"
   ]
  },
  {
   "cell_type": "code",
   "execution_count": null,
   "id": "3351ecc5",
   "metadata": {},
   "outputs": [],
   "source": [
    "for c in db.list_collections():\n",
    "    print(c[\"name\"])           # we intrest to see just name of all collection"
   ]
  },
  {
   "cell_type": "markdown",
   "id": "51921635",
   "metadata": {},
   "source": [
    "<b>Task 3.1.6: Assign the \"nairobi\" collection in db to the variable name nairobi.</b>"
   ]
  },
  {
   "cell_type": "code",
   "execution_count": null,
   "id": "391c22f0",
   "metadata": {},
   "outputs": [],
   "source": [
    "# now our intrest in nairobi collection\n",
    "nairobi = db[\"nairobi\"]"
   ]
  },
  {
   "cell_type": "markdown",
   "id": "37f8cb66",
   "metadata": {},
   "source": [
    "<b> Task 3.1.7: Use the count_documents method to see how many documents are in the nairobi collection.</b>"
   ]
  },
  {
   "cell_type": "code",
   "execution_count": null,
   "id": "6ac3a19e",
   "metadata": {},
   "outputs": [],
   "source": [
    "nairobi.count_documents({})"
   ]
  },
  {
   "cell_type": "markdown",
   "id": "60940376",
   "metadata": {},
   "source": [
    "<b>Task 3.1.8: Use the find_one method to retrieve one document from the nairobi collection, and assign it to the variable name result.</b>"
   ]
  },
  {
   "cell_type": "code",
   "execution_count": null,
   "id": "2b0dfd48",
   "metadata": {},
   "outputs": [],
   "source": [
    "result = nairobi.find_one({})\n",
    "pp.pprint(result)"
   ]
  },
  {
   "cell_type": "markdown",
   "id": "8b2c6f61",
   "metadata": {},
   "source": [
    "<b>Task 3.1.9: Use the distinct method to determine how many sensor sites are included in the nairobi collection.</b>"
   ]
  },
  {
   "cell_type": "code",
   "execution_count": null,
   "id": "9be68d1b",
   "metadata": {},
   "outputs": [],
   "source": [
    "nairobi.distinct(\"metadata.site\")"
   ]
  },
  {
   "cell_type": "markdown",
   "id": "fd24579b",
   "metadata": {},
   "source": [
    "<b>Task 3.1.10: Use the count_documents method to determine how many readings there are for each site in the nairobi collection.</b>"
   ]
  },
  {
   "cell_type": "code",
   "execution_count": null,
   "id": "f30274b0",
   "metadata": {},
   "outputs": [],
   "source": [
    "\n",
    "print(\"Documents from site 6:\", nairobi.count_documents({\"metadata.site\":6}))\n",
    "print(\"Documents from site 29:\", nairobi.count_documents({\"metadata.site\":29}))"
   ]
  },
  {
   "cell_type": "markdown",
   "id": "66d944c3",
   "metadata": {},
   "source": [
    "<b>Task 3.1.11: Use the aggregate method to determine how many readings there are for each site in the nairobi collection.</b>"
   ]
  },
  {
   "cell_type": "markdown",
   "id": "46ce1e7c",
   "metadata": {},
   "source": [
    "aggregate method helps us to find the number of sites because if there are hundred of sites so we can't write hundred line code"
   ]
  },
  {
   "cell_type": "markdown",
   "id": "5b54dd9f",
   "metadata": {},
   "source": [
    "#Starting anything with $sign in mongo it means we are creating something new"
   ]
  },
  {
   "cell_type": "code",
   "execution_count": null,
   "id": "07ca0192",
   "metadata": {},
   "outputs": [],
   "source": [
    "result = nairobi.aggregate(\n",
    "    [\n",
    "        {\"$group\":{\"_id\":\"$metadata.site\",\"count\":{\"$count\":{}}}}\n",
    "    ]\n",
    ")\n",
    "pp.pprint(list(result))"
   ]
  },
  {
   "cell_type": "markdown",
   "id": "83f32fe7",
   "metadata": {},
   "source": [
    "<b> Task 3.1.12: Use the distinct method to determine how many types of measurements have been taken in the nairobi collection.</b>"
   ]
  },
  {
   "cell_type": "code",
   "execution_count": null,
   "id": "0558899d",
   "metadata": {},
   "outputs": [],
   "source": [
    "nairobi.distinct(\"metadata.measurement\")"
   ]
  },
  {
   "cell_type": "markdown",
   "id": "ce47c0a0",
   "metadata": {},
   "source": [
    "<b>Task 3.1.13: Use the find method to retrieve the PM 2.5 readings from all sites. Be sure to limit your results to 3 records only.</b>"
   ]
  },
  {
   "cell_type": "code",
   "execution_count": null,
   "id": "1bbcddef",
   "metadata": {},
   "outputs": [],
   "source": [
    "result = nairobi.find({\"metadata.measurement\":\"P2\"}).limit(3)   \n",
    "pp.pprint(list(result))"
   ]
  },
  {
   "cell_type": "markdown",
   "id": "4ce0e6b8",
   "metadata": {},
   "source": [
    "<b>Task 3.1.14: Use the aggregate method to calculate how many readings there are for each type (\"humidity\", \"temperature\", \"P2\", and \"P1\") in site 6.</b>"
   ]
  },
  {
   "cell_type": "code",
   "execution_count": null,
   "id": "d5a37eb0",
   "metadata": {},
   "outputs": [],
   "source": [
    "result = nairobi.aggregate(\n",
    "    [\n",
    "        {\"$match\":{\"metadata.site\":6}},\n",
    "        {\"$group\":{\"_id\":\"$metadata.measurement\",\"count\":{\"$count\":{}}}}\n",
    "    ]\n",
    ")\n",
    "pp.pprint(list(result))"
   ]
  },
  {
   "cell_type": "markdown",
   "id": "1e123983",
   "metadata": {},
   "source": [
    "<b>Task 3.1.15: Use the aggregate method to calculate how many readings there are for each type (\"humidity\", \"temperature\", \"P2\", and \"P1\") in site 29.</b>"
   ]
  },
  {
   "cell_type": "code",
   "execution_count": null,
   "id": "78e97ba1",
   "metadata": {},
   "outputs": [],
   "source": [
    "result = nairobi.aggregate(\n",
    "    [\n",
    "        {\"$match\":{\"metadata.site\":29}},\n",
    "        {\"$group\":{\"_id\":\"$metadata.measurement\",\"count\":{\"$count\":{}}}}\n",
    "    ]\n",
    ")\n",
    "pp.pprint(list(result))"
   ]
  },
  {
   "cell_type": "markdown",
   "id": "8edc6619",
   "metadata": {},
   "source": [
    "<b>Task 3.1.16: Use the find method to retrieve the PM 2.5 readings from site 29. Be sure to limit your results to 3 records only. Since we won't need the metadata for our model, use the projection argument to limit the results to the \"P2\" and \"timestamp\" keys only.</b>"
   ]
  },
  {
   "cell_type": "code",
   "execution_count": null,
   "id": "017e4083",
   "metadata": {},
   "outputs": [],
   "source": [
    "result = nairobi.find(\n",
    "    {\"metadata.site\":29, \"metadata.measurement\":\"P2\"},\n",
    "    projection={\"P2\": 1, \"timestamp\": 1, \"_id\":0}\n",
    ")\n",
    "pp.pprint(result.next())"
   ]
  },
  {
   "cell_type": "markdown",
   "id": "eaca1bdd",
   "metadata": {},
   "source": [
    "<b>Task 3.1.17: Read records from your result into the DataFrame df. Be sure to set the index to \"timestamp\".</b>"
   ]
  },
  {
   "cell_type": "code",
   "execution_count": null,
   "id": "0338bff3",
   "metadata": {},
   "outputs": [],
   "source": [
    "df = pd.DataFrame(result).set_index(\"timestamp\")\n",
    "df.head()"
   ]
  },
  {
   "cell_type": "code",
   "execution_count": null,
   "id": "18d3b40a",
   "metadata": {},
   "outputs": [],
   "source": []
  },
  {
   "cell_type": "code",
   "execution_count": null,
   "id": "6b66ee67",
   "metadata": {},
   "outputs": [],
   "source": []
  },
  {
   "cell_type": "code",
   "execution_count": null,
   "id": "0de879b7",
   "metadata": {},
   "outputs": [],
   "source": []
  },
  {
   "cell_type": "code",
   "execution_count": null,
   "id": "a3f31baf",
   "metadata": {},
   "outputs": [],
   "source": []
  },
  {
   "cell_type": "code",
   "execution_count": null,
   "id": "dfbb7ca8",
   "metadata": {},
   "outputs": [],
   "source": []
  }
 ],
 "metadata": {
  "kernelspec": {
   "display_name": "Python 3",
   "language": "python",
   "name": "python3"
  },
  "language_info": {
   "codemirror_mode": {
    "name": "ipython",
    "version": 3
   },
   "file_extension": ".py",
   "mimetype": "text/x-python",
   "name": "python",
   "nbconvert_exporter": "python",
   "pygments_lexer": "ipython3",
   "version": "3.8.8"
  }
 },
 "nbformat": 4,
 "nbformat_minor": 5
}
